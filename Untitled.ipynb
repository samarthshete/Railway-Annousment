{
 "cells": [
  {
   "cell_type": "code",
   "execution_count": 16,
   "metadata": {},
   "outputs": [],
   "source": [
    "import os\n",
    "import pandas as pd\n",
    "from pydub import AudioSegment\n",
    "from gtts import gTTS"
   ]
  },
  {
   "cell_type": "code",
   "execution_count": 17,
   "metadata": {},
   "outputs": [
    {
     "name": "stdout",
     "output_type": "stream",
     "text": [
      "Generating Skeleton...\n",
      "Now Generating Announcement...\n",
      "    train_no         train_name      from        to     via  platform\n",
      "0  1 2 5 1 8  Mahalaxmi Express  Kolhapur    Mumbai   Miraj         1\n",
      "1  3 1 5 2 0  Haripriya Express  Tirupati  Kolhapur  Hubali         4\n"
     ]
    }
   ],
   "source": [
    "def textToSpeech(text, filename):\n",
    "    mytext = str(text)\n",
    "    language = 'hi'\n",
    "    myobj = gTTS(text=mytext, lang=language, slow=False)\n",
    "    myobj.save(filename)\n",
    "\n",
    "def mergeAudios(audios):\n",
    "    combined = AudioSegment.empty()\n",
    "    for audio in audios:\n",
    "        combined += AudioSegment.from_mp3(audio)\n",
    "    return combined\n",
    "def generateSkeleton():\n",
    "    audio = AudioSegment.from_mp3('railway.mp3')\n",
    "\n",
    "    # 1 - Generate kripya dheyan dijiye\n",
    "    start = 88000\n",
    "    finish = 90200\n",
    "    audioProcessed = audio[start:finish]\n",
    "    audioProcessed.export(\"1_hindi.mp3\", format=\"mp3\")\n",
    "\n",
    "    # 2 is from-city\n",
    "\n",
    "    # 3 - Generate se chalkar\n",
    "    start = 91000\n",
    "    finish = 92200\n",
    "    audioProcessed = audio[start:finish]\n",
    "    audioProcessed.export(\"3_hindi.mp3\", format=\"mp3\")\n",
    "\n",
    "    # 4 is via-city\n",
    "\n",
    "    # 5 - Generate ke raaste\n",
    "    start = 94000\n",
    "    finish = 95000\n",
    "    audioProcessed = audio[start:finish]\n",
    "    audioProcessed.export(\"5_hindi.mp3\", format=\"mp3\")\n",
    "\n",
    "    # 6 is to-city\n",
    "\n",
    "    # 7 - Generate ko jaane wali gaadi sakhya\n",
    "    start = 96000\n",
    "    finish = 98900\n",
    "    audioProcessed = audio[start:finish]\n",
    "    audioProcessed.export(\"7_hindi.mp3\", format=\"mp3\")\n",
    "\n",
    "    # 8 is train no and name\n",
    "\n",
    "    # 9 - Generate kuch hi samay mei platform sankhya\n",
    "    start = 105500\n",
    "    finish = 108200\n",
    "    audioProcessed = audio[start:finish]\n",
    "    audioProcessed.export(\"9_hindi.mp3\", format=\"mp3\")\n",
    "\n",
    "    # 10 is platform number\n",
    "\n",
    "    # 11 - Generate par aa rahi hai\n",
    "    start = 109000\n",
    "    finish = 112250\n",
    "    audioProcessed = audio[start:finish]\n",
    "    audioProcessed.export(\"11_hindi.mp3\", format=\"mp3\")\n",
    "\n",
    "def generateAnnouncement(filename):\n",
    "    df = pd.read_excel(filename)\n",
    "    print(df)\n",
    "    for index, item in df.iterrows():\n",
    "        # 2 - Generate from-city\n",
    "        textToSpeech(item['from'], '2_hindi.mp3')\n",
    "\n",
    "        # 4 - Generate via-city\n",
    "        textToSpeech(item['via'], '4_hindi.mp3')\n",
    "\n",
    "        # 6 - Generate to-city\n",
    "        textToSpeech(item['to'], '6_hindi.mp3')\n",
    "\n",
    "        # 8 - Generate train no and name\n",
    "        textToSpeech(item['train_no'] + \" \" + item['train_name'], '8_hindi.mp3')\n",
    "\n",
    "        # 10 - Generate platform number\n",
    "        textToSpeech(item['platform'], '10_hindi.mp3')\n",
    "\n",
    "        audios = [f\"{i}_hindi.mp3\" for i in range(1,12)]\n",
    "\n",
    "        announcement = mergeAudios(audios)\n",
    "        announcement.export(f\"announcement_{item['train_no']}_{index+1}.mp3\", format=\"mp3\")\n",
    "if __name__ == \"__main__\":\n",
    "    print(\"Generating Skeleton...\")\n",
    "    generateSkeleton()\n",
    "    print(\"Now Generating Announcement...\")\n",
    "    generateAnnouncement(\"announce_hindi.xlsx\")\n",
    "    "
   ]
  },
  {
   "cell_type": "code",
   "execution_count": 6,
   "metadata": {},
   "outputs": [],
   "source": []
  },
  {
   "cell_type": "code",
   "execution_count": 7,
   "metadata": {},
   "outputs": [],
   "source": []
  },
  {
   "cell_type": "code",
   "execution_count": 8,
   "metadata": {},
   "outputs": [],
   "source": []
  },
  {
   "cell_type": "code",
   "execution_count": null,
   "metadata": {},
   "outputs": [],
   "source": []
  }
 ],
 "metadata": {
  "kernelspec": {
   "display_name": "Python 3",
   "language": "python",
   "name": "python3"
  },
  "language_info": {
   "codemirror_mode": {
    "name": "ipython",
    "version": 3
   },
   "file_extension": ".py",
   "mimetype": "text/x-python",
   "name": "python",
   "nbconvert_exporter": "python",
   "pygments_lexer": "ipython3",
   "version": "3.7.3"
  }
 },
 "nbformat": 4,
 "nbformat_minor": 2
}
